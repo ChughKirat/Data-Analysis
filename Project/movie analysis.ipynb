{
 "cells": [
  {
   "cell_type": "markdown",
   "metadata": {},
   "source": [
    "# Project : Investigate a Dataset : TMDb Movie Data"
   ]
  },
  {
   "cell_type": "markdown",
   "metadata": {},
   "source": [
    "# Introduction\n",
    "This data set contains information about 10,000 movies collected from The Movie Database (TMDb), including user ratings and revenue. This dataset is extracted from kaggle : TMDB 5000 Movie Dataset. In this data set I will try to analyze the data to answer questions such as:\n",
    "\n",
    "1. Which genres is most popular in movie making ?\n",
    "\n",
    "2. Which Genre has more popularity?\n",
    "\n",
    "3. Are movie releses incresing with time?\n",
    "\n",
    "4. Visualisation of yearly revenue with time"
   ]
  },
  {
   "cell_type": "markdown",
   "metadata": {},
   "source": [
    "# Attributes of data set:\n",
    "- **id** : Index or id\n",
    "\n",
    "- **imdb_id** : Unique ID given by IMDB\n",
    "\n",
    "- **popularity** : Popularity of the movie\n",
    "\n",
    "- **budget** : Budget of the movie\n",
    "\n",
    "- **revenue** : Revenue by the movie\n",
    "\n",
    "- **original_title** : Film Name\n",
    "\n",
    "- **director** : Director or Directoers of the film\n",
    "\n",
    "- **keywords** : Keywords related to film\n",
    "\n",
    "- **runtime** : Film length or duration\n",
    "\n",
    "- **genres** : Type of movie\n",
    "\n",
    "- **production_companies** : Companies that have invested to the film\n",
    "\n",
    "- **vote_count** : Number of votes\n",
    "\n",
    "- **vote_average** : Average vote rating\n",
    "\n",
    "- **release_year** : released year"
   ]
  },
  {
   "cell_type": "code",
   "execution_count": 47,
   "metadata": {},
   "outputs": [],
   "source": [
    "# Importing required packages\n",
    "import pandas as pd\n",
    "import numpy as np\n",
    "import seaborn as sns\n",
    "import matplotlib.pyplot as plt\n",
    "import csv\n",
    "%matplotlib inline\n",
    "\n",
    "#loading the data sets\n",
    "df_movie  = pd.read_csv('tmdb-movies.csv')"
   ]
  },
  {
   "cell_type": "markdown",
   "metadata": {},
   "source": [
    "# Data Wrangling\n",
    "## General Properties"
   ]
  },
  {
   "cell_type": "code",
   "execution_count": 48,
   "metadata": {},
   "outputs": [
    {
     "data": {
      "text/html": [
       "<div>\n",
       "<style scoped>\n",
       "    .dataframe tbody tr th:only-of-type {\n",
       "        vertical-align: middle;\n",
       "    }\n",
       "\n",
       "    .dataframe tbody tr th {\n",
       "        vertical-align: top;\n",
       "    }\n",
       "\n",
       "    .dataframe thead th {\n",
       "        text-align: right;\n",
       "    }\n",
       "</style>\n",
       "<table border=\"1\" class=\"dataframe\">\n",
       "  <thead>\n",
       "    <tr style=\"text-align: right;\">\n",
       "      <th></th>\n",
       "      <th>id</th>\n",
       "      <th>imdb_id</th>\n",
       "      <th>popularity</th>\n",
       "      <th>budget</th>\n",
       "      <th>revenue</th>\n",
       "      <th>original_title</th>\n",
       "      <th>cast</th>\n",
       "      <th>homepage</th>\n",
       "      <th>director</th>\n",
       "      <th>tagline</th>\n",
       "      <th>...</th>\n",
       "      <th>overview</th>\n",
       "      <th>runtime</th>\n",
       "      <th>genres</th>\n",
       "      <th>production_companies</th>\n",
       "      <th>release_date</th>\n",
       "      <th>vote_count</th>\n",
       "      <th>vote_average</th>\n",
       "      <th>release_year</th>\n",
       "      <th>budget_adj</th>\n",
       "      <th>revenue_adj</th>\n",
       "    </tr>\n",
       "  </thead>\n",
       "  <tbody>\n",
       "    <tr>\n",
       "      <th>0</th>\n",
       "      <td>135397</td>\n",
       "      <td>tt0369610</td>\n",
       "      <td>32.985763</td>\n",
       "      <td>150000000</td>\n",
       "      <td>1513528810</td>\n",
       "      <td>Jurassic World</td>\n",
       "      <td>Chris Pratt|Bryce Dallas Howard|Irrfan Khan|Vi...</td>\n",
       "      <td>http://www.jurassicworld.com/</td>\n",
       "      <td>Colin Trevorrow</td>\n",
       "      <td>The park is open.</td>\n",
       "      <td>...</td>\n",
       "      <td>Twenty-two years after the events of Jurassic ...</td>\n",
       "      <td>124</td>\n",
       "      <td>Action|Adventure|Science Fiction|Thriller</td>\n",
       "      <td>Universal Studios|Amblin Entertainment|Legenda...</td>\n",
       "      <td>6/9/15</td>\n",
       "      <td>5562</td>\n",
       "      <td>6.5</td>\n",
       "      <td>2015</td>\n",
       "      <td>1.379999e+08</td>\n",
       "      <td>1.392446e+09</td>\n",
       "    </tr>\n",
       "    <tr>\n",
       "      <th>1</th>\n",
       "      <td>76341</td>\n",
       "      <td>tt1392190</td>\n",
       "      <td>28.419936</td>\n",
       "      <td>150000000</td>\n",
       "      <td>378436354</td>\n",
       "      <td>Mad Max: Fury Road</td>\n",
       "      <td>Tom Hardy|Charlize Theron|Hugh Keays-Byrne|Nic...</td>\n",
       "      <td>http://www.madmaxmovie.com/</td>\n",
       "      <td>George Miller</td>\n",
       "      <td>What a Lovely Day.</td>\n",
       "      <td>...</td>\n",
       "      <td>An apocalyptic story set in the furthest reach...</td>\n",
       "      <td>120</td>\n",
       "      <td>Action|Adventure|Science Fiction|Thriller</td>\n",
       "      <td>Village Roadshow Pictures|Kennedy Miller Produ...</td>\n",
       "      <td>5/13/15</td>\n",
       "      <td>6185</td>\n",
       "      <td>7.1</td>\n",
       "      <td>2015</td>\n",
       "      <td>1.379999e+08</td>\n",
       "      <td>3.481613e+08</td>\n",
       "    </tr>\n",
       "  </tbody>\n",
       "</table>\n",
       "<p>2 rows × 21 columns</p>\n",
       "</div>"
      ],
      "text/plain": [
       "       id    imdb_id  popularity     budget     revenue      original_title  \\\n",
       "0  135397  tt0369610   32.985763  150000000  1513528810      Jurassic World   \n",
       "1   76341  tt1392190   28.419936  150000000   378436354  Mad Max: Fury Road   \n",
       "\n",
       "                                                cast  \\\n",
       "0  Chris Pratt|Bryce Dallas Howard|Irrfan Khan|Vi...   \n",
       "1  Tom Hardy|Charlize Theron|Hugh Keays-Byrne|Nic...   \n",
       "\n",
       "                        homepage         director             tagline  \\\n",
       "0  http://www.jurassicworld.com/  Colin Trevorrow   The park is open.   \n",
       "1    http://www.madmaxmovie.com/    George Miller  What a Lovely Day.   \n",
       "\n",
       "       ...                                                overview runtime  \\\n",
       "0      ...       Twenty-two years after the events of Jurassic ...     124   \n",
       "1      ...       An apocalyptic story set in the furthest reach...     120   \n",
       "\n",
       "                                      genres  \\\n",
       "0  Action|Adventure|Science Fiction|Thriller   \n",
       "1  Action|Adventure|Science Fiction|Thriller   \n",
       "\n",
       "                                production_companies release_date vote_count  \\\n",
       "0  Universal Studios|Amblin Entertainment|Legenda...       6/9/15       5562   \n",
       "1  Village Roadshow Pictures|Kennedy Miller Produ...      5/13/15       6185   \n",
       "\n",
       "   vote_average  release_year    budget_adj   revenue_adj  \n",
       "0           6.5          2015  1.379999e+08  1.392446e+09  \n",
       "1           7.1          2015  1.379999e+08  3.481613e+08  \n",
       "\n",
       "[2 rows x 21 columns]"
      ]
     },
     "execution_count": 48,
     "metadata": {},
     "output_type": "execute_result"
    }
   ],
   "source": [
    "#assessing the sample data \n",
    "df_movie.head(2)"
   ]
  },
  {
   "cell_type": "code",
   "execution_count": 49,
   "metadata": {},
   "outputs": [
    {
     "name": "stdout",
     "output_type": "stream",
     "text": [
      "<class 'pandas.core.frame.DataFrame'>\n",
      "RangeIndex: 10866 entries, 0 to 10865\n",
      "Data columns (total 21 columns):\n",
      "id                      10866 non-null int64\n",
      "imdb_id                 10856 non-null object\n",
      "popularity              10866 non-null float64\n",
      "budget                  10866 non-null int64\n",
      "revenue                 10866 non-null int64\n",
      "original_title          10866 non-null object\n",
      "cast                    10790 non-null object\n",
      "homepage                2936 non-null object\n",
      "director                10822 non-null object\n",
      "tagline                 8042 non-null object\n",
      "keywords                9373 non-null object\n",
      "overview                10862 non-null object\n",
      "runtime                 10866 non-null int64\n",
      "genres                  10843 non-null object\n",
      "production_companies    9836 non-null object\n",
      "release_date            10866 non-null object\n",
      "vote_count              10866 non-null int64\n",
      "vote_average            10866 non-null float64\n",
      "release_year            10866 non-null int64\n",
      "budget_adj              10866 non-null float64\n",
      "revenue_adj             10866 non-null float64\n",
      "dtypes: float64(4), int64(6), object(11)\n",
      "memory usage: 1.7+ MB\n"
     ]
    }
   ],
   "source": [
    "# info about the data sets\n",
    "df_movie.info()"
   ]
  },
  {
   "cell_type": "code",
   "execution_count": 50,
   "metadata": {},
   "outputs": [
    {
     "data": {
      "text/plain": [
       "id                         0\n",
       "imdb_id                   10\n",
       "popularity                 0\n",
       "budget                     0\n",
       "revenue                    0\n",
       "original_title             0\n",
       "cast                      76\n",
       "homepage                7930\n",
       "director                  44\n",
       "tagline                 2824\n",
       "keywords                1493\n",
       "overview                   4\n",
       "runtime                    0\n",
       "genres                    23\n",
       "production_companies    1030\n",
       "release_date               0\n",
       "vote_count                 0\n",
       "vote_average               0\n",
       "release_year               0\n",
       "budget_adj                 0\n",
       "revenue_adj                0\n",
       "dtype: int64"
      ]
     },
     "execution_count": 50,
     "metadata": {},
     "output_type": "execute_result"
    }
   ],
   "source": [
    "#To know how many null values are present\n",
    "df_movie.isnull().sum()"
   ]
  },
  {
   "cell_type": "code",
   "execution_count": 51,
   "metadata": {},
   "outputs": [
    {
     "data": {
      "text/plain": [
       "1"
      ]
     },
     "execution_count": 51,
     "metadata": {},
     "output_type": "execute_result"
    }
   ],
   "source": [
    "#to know how many duplicates are present\n",
    "df_movie.duplicated().sum()"
   ]
  },
  {
   "cell_type": "code",
   "execution_count": 52,
   "metadata": {},
   "outputs": [],
   "source": [
    "#to delete the duplicates\n",
    "df_movie.drop_duplicates(inplace = True)"
   ]
  },
  {
   "cell_type": "code",
   "execution_count": 53,
   "metadata": {},
   "outputs": [
    {
     "data": {
      "text/plain": [
       "0"
      ]
     },
     "execution_count": 53,
     "metadata": {},
     "output_type": "execute_result"
    }
   ],
   "source": [
    "#varifying if duplicates are deleted\n",
    "df_movie.duplicated().sum()"
   ]
  },
  {
   "cell_type": "code",
   "execution_count": 54,
   "metadata": {},
   "outputs": [],
   "source": [
    "#keeping only the required columns\n",
    "df_movie.drop(['cast','homepage','tagline','overview','release_date', 'budget_adj', 'revenue_adj'], axis = 1, inplace = True)"
   ]
  },
  {
   "cell_type": "code",
   "execution_count": 55,
   "metadata": {},
   "outputs": [],
   "source": [
    "#creating the new csv with updated (required columns)\n",
    "df_movie.to_csv('tmdb-movies-updated.csv')"
   ]
  },
  {
   "cell_type": "code",
   "execution_count": 56,
   "metadata": {},
   "outputs": [],
   "source": [
    "#Loading the new csv\n",
    "df_movie_updated  = pd.read_csv('tmdb-movies-updated.csv',encoding = \"ISO-8859-1\")"
   ]
  },
  {
   "cell_type": "code",
   "execution_count": 57,
   "metadata": {},
   "outputs": [
    {
     "name": "stdout",
     "output_type": "stream",
     "text": [
      "<class 'pandas.core.frame.DataFrame'>\n",
      "RangeIndex: 10865 entries, 0 to 10864\n",
      "Data columns (total 15 columns):\n",
      "Unnamed: 0              10865 non-null int64\n",
      "id                      10865 non-null int64\n",
      "imdb_id                 10855 non-null object\n",
      "popularity              10865 non-null float64\n",
      "budget                  10865 non-null int64\n",
      "revenue                 10865 non-null int64\n",
      "original_title          10865 non-null object\n",
      "director                10821 non-null object\n",
      "keywords                9372 non-null object\n",
      "runtime                 10865 non-null int64\n",
      "genres                  10842 non-null object\n",
      "production_companies    9835 non-null object\n",
      "vote_count              10865 non-null int64\n",
      "vote_average            10865 non-null float64\n",
      "release_year            10865 non-null int64\n",
      "dtypes: float64(2), int64(7), object(6)\n",
      "memory usage: 1.2+ MB\n"
     ]
    }
   ],
   "source": [
    "#info about the new csv\n",
    "df_movie_updated.info()"
   ]
  },
  {
   "cell_type": "code",
   "execution_count": 58,
   "metadata": {},
   "outputs": [],
   "source": [
    "# filling the blank spaces with NaN values\n",
    "df_movie_updated['director'].fillna('NaN');\n",
    "df_movie_updated['genres'].fillna('NaN');\n",
    "df_movie_updated['production_companies'].fillna('NaN');\n",
    "df_movie_updated['imdb_id'].fillna('NaN');\n",
    "df_movie_updated['keywords'].fillna('NaN');"
   ]
  },
  {
   "cell_type": "markdown",
   "metadata": {},
   "source": [
    "# Exploratory Data Analysis"
   ]
  },
  {
   "cell_type": "markdown",
   "metadata": {},
   "source": [
    "# 1. Which genres is most popular in movie making?\n",
    "In this question we will try to analyze what type of films, production companies are producing a lot."
   ]
  },
  {
   "cell_type": "code",
   "execution_count": 59,
   "metadata": {},
   "outputs": [
    {
     "data": {
      "image/png": "[encoded data removed]",
      "text/plain": [
       "<matplotlib.figure.Figure at 0x14c612a8438>"
      ]
     },
     "metadata": {},
     "output_type": "display_data"
    }
   ],
   "source": [
    "# Get all genres\n",
    "all_genres = df_movie_updated['genres'].str.cat(sep='|')\n",
    "all_genres = pd.Series(all_genres.split('|'))\n",
    "\n",
    "# Count the genres\n",
    "count = all_genres.value_counts(ascending=True)\n",
    "\n",
    "# Plot\n",
    "ax = count.plot.barh()\n",
    "ax.set(title='Most filmed genres',\n",
    "       xlabel='Number of movies',\n",
    "       ylabel = 'Release_year')\n",
    "\n",
    "plt.show()"
   ]
  },
  {
   "cell_type": "markdown",
   "metadata": {},
   "source": [
    "By graph we can say more films tend to be Drama according to the analysis. The next places is for comedy movies, thriller movies, action movies, romance movies accordingly. This analysis was done to see which genre movies was filmed more by production companies."
   ]
  },
  {
   "cell_type": "markdown",
   "metadata": {},
   "source": [
    "# 2. Which Genre has more popularity?\n",
    "In this question we will try to analyze which genre is more popular in the audience. The graph plotted is 2d graph (popularity v/s genre)"
   ]
  },
  {
   "cell_type": "code",
   "execution_count": 60,
   "metadata": {},
   "outputs": [],
   "source": [
    "#Finding different types of genre present in the data set\n",
    "a = np.unique(all_genres)"
   ]
  },
  {
   "cell_type": "code",
   "execution_count": 62,
   "metadata": {},
   "outputs": [
    {
     "data": {
      "text/html": [
       "<div>\n",
       "<style scoped>\n",
       "    .dataframe tbody tr th:only-of-type {\n",
       "        vertical-align: middle;\n",
       "    }\n",
       "\n",
       "    .dataframe tbody tr th {\n",
       "        vertical-align: top;\n",
       "    }\n",
       "\n",
       "    .dataframe thead th {\n",
       "        text-align: right;\n",
       "    }\n",
       "</style>\n",
       "<table border=\"1\" class=\"dataframe\">\n",
       "  <thead>\n",
       "    <tr style=\"text-align: right;\">\n",
       "      <th></th>\n",
       "      <th>genre</th>\n",
       "      <th>popularity</th>\n",
       "    </tr>\n",
       "  </thead>\n",
       "  <tbody>\n",
       "    <tr>\n",
       "      <th>0</th>\n",
       "      <td>Action</td>\n",
       "      <td>0</td>\n",
       "    </tr>\n",
       "    <tr>\n",
       "      <th>1</th>\n",
       "      <td>Adventure</td>\n",
       "      <td>0</td>\n",
       "    </tr>\n",
       "    <tr>\n",
       "      <th>2</th>\n",
       "      <td>Animation</td>\n",
       "      <td>0</td>\n",
       "    </tr>\n",
       "    <tr>\n",
       "      <th>3</th>\n",
       "      <td>Comedy</td>\n",
       "      <td>0</td>\n",
       "    </tr>\n",
       "    <tr>\n",
       "      <th>4</th>\n",
       "      <td>Crime</td>\n",
       "      <td>0</td>\n",
       "    </tr>\n",
       "  </tbody>\n",
       "</table>\n",
       "</div>"
      ],
      "text/plain": [
       "       genre  popularity\n",
       "0     Action           0\n",
       "1  Adventure           0\n",
       "2  Animation           0\n",
       "3     Comedy           0\n",
       "4      Crime           0"
      ]
     },
     "execution_count": 62,
     "metadata": {},
     "output_type": "execute_result"
    }
   ],
   "source": [
    "# creating DataFrame\n",
    "df_genre = pd.DataFrame({'genre' : a, 'popularity' : 0})\n",
    "df_genre.head()"
   ]
  },
  {
   "cell_type": "code",
   "execution_count": 64,
   "metadata": {},
   "outputs": [
    {
     "name": "stderr",
     "output_type": "stream",
     "text": [
      "C:\\Users\\chugh\\Anaconda3\\lib\\site-packages\\pandas\\core\\indexing.py:194: SettingWithCopyWarning: \n",
      "A value is trying to be set on a copy of a slice from a DataFrame\n",
      "\n",
      "See the caveats in the documentation: http://pandas.pydata.org/pandas-docs/stable/indexing.html#indexing-view-versus-copy\n",
      "  self._setitem_with_indexer(indexer, value)\n"
     ]
    },
    {
     "data": {
      "text/html": [
       "<div>\n",
       "<style scoped>\n",
       "    .dataframe tbody tr th:only-of-type {\n",
       "        vertical-align: middle;\n",
       "    }\n",
       "\n",
       "    .dataframe tbody tr th {\n",
       "        vertical-align: top;\n",
       "    }\n",
       "\n",
       "    .dataframe thead th {\n",
       "        text-align: right;\n",
       "    }\n",
       "</style>\n",
       "<table border=\"1\" class=\"dataframe\">\n",
       "  <thead>\n",
       "    <tr style=\"text-align: right;\">\n",
       "      <th></th>\n",
       "      <th>genre</th>\n",
       "      <th>popularity</th>\n",
       "    </tr>\n",
       "  </thead>\n",
       "  <tbody>\n",
       "    <tr>\n",
       "      <th>0</th>\n",
       "      <td>Action</td>\n",
       "      <td>4416.476510</td>\n",
       "    </tr>\n",
       "    <tr>\n",
       "      <th>1</th>\n",
       "      <td>Adventure</td>\n",
       "      <td>3395.830108</td>\n",
       "    </tr>\n",
       "    <tr>\n",
       "      <th>2</th>\n",
       "      <td>Animation</td>\n",
       "      <td>1191.349950</td>\n",
       "    </tr>\n",
       "    <tr>\n",
       "      <th>3</th>\n",
       "      <td>Comedy</td>\n",
       "      <td>4495.519298</td>\n",
       "    </tr>\n",
       "    <tr>\n",
       "      <th>4</th>\n",
       "      <td>Crime</td>\n",
       "      <td>2017.271646</td>\n",
       "    </tr>\n",
       "  </tbody>\n",
       "</table>\n",
       "</div>"
      ],
      "text/plain": [
       "       genre   popularity\n",
       "0     Action  4416.476510\n",
       "1  Adventure  3395.830108\n",
       "2  Animation  1191.349950\n",
       "3     Comedy  4495.519298\n",
       "4      Crime  2017.271646"
      ]
     },
     "execution_count": 64,
     "metadata": {},
     "output_type": "execute_result"
    }
   ],
   "source": [
    "#Code to sum all the popularity of particular genre and store it to particular genre column\n",
    "for index, value in df_genre['genre'].iteritems():\n",
    "    for a, b in df_movie_updated['genres'].iteritems():\n",
    "        if (str(value) in str(b)):\n",
    "            df_genre['popularity'].loc[index] += df_movie_updated['popularity'].loc[a]\n",
    "df_genre.head()"
   ]
  },
  {
   "cell_type": "code",
   "execution_count": 65,
   "metadata": {},
   "outputs": [
    {
     "name": "stderr",
     "output_type": "stream",
     "text": [
      "C:\\Users\\chugh\\Anaconda3\\lib\\site-packages\\seaborn\\categorical.py:1460: FutureWarning: remove_na is deprecated and is a private function. Do not use.\n",
      "  stat_data = remove_na(group_data)\n"
     ]
    },
    {
     "data": {
      "image/png": "[encoded data removed]",
      "text/plain": [
       "<matplotlib.figure.Figure at 0x14c62847fd0>"
      ]
     },
     "metadata": {},
     "output_type": "display_data"
    }
   ],
   "source": [
    "#plotting\n",
    "a = sns.factorplot(x= 'genre', y = 'popularity', data = df_genre, kind = 'bar', size = 18);\n",
    "#Plot tittle\n",
    "plt.subplots_adjust(top=0.95)\n",
    "a.fig.suptitle('Plot showing relation between genre and popularity') \n",
    "plt.show()"
   ]
  },
  {
   "cell_type": "markdown",
   "metadata": {},
   "source": [
    "By graph we can say people tend to watch more movies that is related to drama. Next comes comedy films, action films and thriller films accordingly. I choose to do 2d graph here as there was 2 attributes to be compared.. This analysis was done to see which genre movies was most popular within the audience."
   ]
  },
  {
   "cell_type": "markdown",
   "metadata": {},
   "source": [
    "# 3. Are movie releses increasing with time?\n",
    "In this question we will try to analyze weather the movie making is increasing with time."
   ]
  },
  {
   "cell_type": "code",
   "execution_count": 67,
   "metadata": {},
   "outputs": [
    {
     "data": {
      "image/png": "[encoded data removed]",
      "text/plain": [
       "<matplotlib.figure.Figure at 0x14c62847d30>"
      ]
     },
     "metadata": {},
     "output_type": "display_data"
    }
   ],
   "source": [
    "df_movie_updated['release_year'].hist();\n",
    "plt.title('Movie Releases by year')\n",
    "plt.xlabel('year')\n",
    "plt.ylabel('Frequency or Number of movies');"
   ]
  },
  {
   "cell_type": "markdown",
   "metadata": {},
   "source": [
    "Yes, by this graph we can say that there are more movie releases with increasing time, the graph is incresing exponentially. I choosed to do 1d graph here as there is only one attribute whose frequecy has to be analyzed."
   ]
  },
  {
   "cell_type": "markdown",
   "metadata": {},
   "source": [
    "# 4. Visualisation of yearly revenue\n",
    "In this analysis we will try to analyze the trend of the revenue of the film industry. The graph plotted is a 2d graph(Total revenue v/s year)."
   ]
  },
  {
   "cell_type": "code",
   "execution_count": 69,
   "metadata": {},
   "outputs": [
    {
     "data": {
      "text/plain": [
       "2015"
      ]
     },
     "execution_count": 69,
     "metadata": {},
     "output_type": "execute_result"
    }
   ],
   "source": [
    "#finding the max year in the data set\n",
    "df_movie_updated['release_year'].max()"
   ]
  },
  {
   "cell_type": "code",
   "execution_count": 70,
   "metadata": {},
   "outputs": [
    {
     "data": {
      "text/plain": [
       "1960"
      ]
     },
     "execution_count": 70,
     "metadata": {},
     "output_type": "execute_result"
    }
   ],
   "source": [
    "#finding the min year in the data set\n",
    "df_movie_updated['release_year'].min()"
   ]
  },
  {
   "cell_type": "code",
   "execution_count": 71,
   "metadata": {},
   "outputs": [
    {
     "data": {
      "text/html": [
       "<div>\n",
       "<style scoped>\n",
       "    .dataframe tbody tr th:only-of-type {\n",
       "        vertical-align: middle;\n",
       "    }\n",
       "\n",
       "    .dataframe tbody tr th {\n",
       "        vertical-align: top;\n",
       "    }\n",
       "\n",
       "    .dataframe thead th {\n",
       "        text-align: right;\n",
       "    }\n",
       "</style>\n",
       "<table border=\"1\" class=\"dataframe\">\n",
       "  <thead>\n",
       "    <tr style=\"text-align: right;\">\n",
       "      <th></th>\n",
       "      <th>total</th>\n",
       "      <th>year</th>\n",
       "    </tr>\n",
       "  </thead>\n",
       "  <tbody>\n",
       "    <tr>\n",
       "      <th>0</th>\n",
       "      <td>0</td>\n",
       "      <td>1960</td>\n",
       "    </tr>\n",
       "    <tr>\n",
       "      <th>1</th>\n",
       "      <td>0</td>\n",
       "      <td>1961</td>\n",
       "    </tr>\n",
       "    <tr>\n",
       "      <th>2</th>\n",
       "      <td>0</td>\n",
       "      <td>1962</td>\n",
       "    </tr>\n",
       "    <tr>\n",
       "      <th>3</th>\n",
       "      <td>0</td>\n",
       "      <td>1963</td>\n",
       "    </tr>\n",
       "    <tr>\n",
       "      <th>4</th>\n",
       "      <td>0</td>\n",
       "      <td>1964</td>\n",
       "    </tr>\n",
       "  </tbody>\n",
       "</table>\n",
       "</div>"
      ],
      "text/plain": [
       "   total  year\n",
       "0      0  1960\n",
       "1      0  1961\n",
       "2      0  1962\n",
       "3      0  1963\n",
       "4      0  1964"
      ]
     },
     "execution_count": 71,
     "metadata": {},
     "output_type": "execute_result"
    }
   ],
   "source": [
    "# creating DataFrame\n",
    "ab = pd.DataFrame({'year' : range(1960, 2015), 'total' : 0})\n",
    "ab.head()"
   ]
  },
  {
   "cell_type": "code",
   "execution_count": 72,
   "metadata": {},
   "outputs": [
    {
     "data": {
      "text/html": [
       "<div>\n",
       "<style scoped>\n",
       "    .dataframe tbody tr th:only-of-type {\n",
       "        vertical-align: middle;\n",
       "    }\n",
       "\n",
       "    .dataframe tbody tr th {\n",
       "        vertical-align: top;\n",
       "    }\n",
       "\n",
       "    .dataframe thead th {\n",
       "        text-align: right;\n",
       "    }\n",
       "</style>\n",
       "<table border=\"1\" class=\"dataframe\">\n",
       "  <thead>\n",
       "    <tr style=\"text-align: right;\">\n",
       "      <th></th>\n",
       "      <th>total</th>\n",
       "      <th>year</th>\n",
       "    </tr>\n",
       "  </thead>\n",
       "  <tbody>\n",
       "    <tr>\n",
       "      <th>0</th>\n",
       "      <td>145005000</td>\n",
       "      <td>1960</td>\n",
       "    </tr>\n",
       "    <tr>\n",
       "      <th>1</th>\n",
       "      <td>337720188</td>\n",
       "      <td>1961</td>\n",
       "    </tr>\n",
       "    <tr>\n",
       "      <th>2</th>\n",
       "      <td>215579846</td>\n",
       "      <td>1962</td>\n",
       "    </tr>\n",
       "    <tr>\n",
       "      <th>3</th>\n",
       "      <td>187404989</td>\n",
       "      <td>1963</td>\n",
       "    </tr>\n",
       "    <tr>\n",
       "      <th>4</th>\n",
       "      <td>340981782</td>\n",
       "      <td>1964</td>\n",
       "    </tr>\n",
       "  </tbody>\n",
       "</table>\n",
       "</div>"
      ],
      "text/plain": [
       "       total  year\n",
       "0  145005000  1960\n",
       "1  337720188  1961\n",
       "2  215579846  1962\n",
       "3  187404989  1963\n",
       "4  340981782  1964"
      ]
     },
     "execution_count": 72,
     "metadata": {},
     "output_type": "execute_result"
    }
   ],
   "source": [
    "#Code to add all the revenue collected per year by films and store to the perticular year\n",
    "for index, value in ab['year'].iteritems():\n",
    "    for a, b in df_movie_updated['release_year'].iteritems():\n",
    "        if (b == value):\n",
    "            ab['total'].loc[index] += df_movie_updated['revenue'].loc[a]\n",
    "\n",
    "#ab = df_movie_updated.groupby('release_year')['revenue'].sum()\n",
    "ab.head()"
   ]
  },
  {
   "cell_type": "code",
   "execution_count": 73,
   "metadata": {},
   "outputs": [
    {
     "name": "stderr",
     "output_type": "stream",
     "text": [
      "C:\\Users\\chugh\\Anaconda3\\lib\\site-packages\\seaborn\\categorical.py:1460: FutureWarning: remove_na is deprecated and is a private function. Do not use.\n",
      "  stat_data = remove_na(group_data)\n"
     ]
    },
    {
     "data": {
      "image/png": "[encoded data removed]",
      "text/plain": [
       "<matplotlib.figure.Figure at 0x14c61233f98>"
      ]
     },
     "metadata": {},
     "output_type": "display_data"
    }
   ],
   "source": [
    "a = sns.factorplot(x= 'year', y = 'total', data = ab, kind = 'bar', size = 30);\n",
    "#Plot Tittle\n",
    "plt.subplots_adjust(top=0.99)\n",
    "a.fig.suptitle('Plot Showing relation between Revenue and year') \n",
    "plt.show()"
   ]
  },
  {
   "cell_type": "markdown",
   "metadata": {},
   "source": [
    "According to visualisation, we can say that the total revenue is increasing with time. The graph is incresing exponentially. I choosed to do 2D graph as there were 2 attributes to be analysed (year and popularity). This analysis was done to see the trend of revenue in years."
   ]
  },
  {
   "cell_type": "markdown",
   "metadata": {},
   "source": [
    "# Conclusions\n",
    "To Summerize, the movie data contained most of the data that was required to do the analysis that was proposed in the initial question. This analysis was mostly based on the genre and release date. To put it in a nutshell:\n",
    "\n",
    "**1. Which genres is most popular in movie making?**\n",
    "\n",
    "**Ans**: By graph we can say more films tend to be Drama according to the analysis. The next places is for comedy movies, thriller movies, action movies, romance movies according. That means more films are made with Drama genres.\n",
    "\n",
    "**2. Which Genre has more popularity?**\n",
    "\n",
    "**Ans**: By graph we can say people tend to watch more movies that is related to drama. Next comes comedy films, action films and thriller films accordingly\n",
    "\n",
    "**3. Are movie releses with time incresing?**\n",
    "\n",
    "**Ans**: Yes, By graph we can say there are more movies that are released with year, the graph is incresing exponentially.\n",
    "\n",
    "**4. Visualisation of yearly revenue with time.**\n",
    "\n",
    "**Ans**: According to visualisation, we can say that the total revenue is increasing with time. The graph is incresing exponentially"
   ]
  },
  {
   "cell_type": "code",
   "execution_count": null,
   "metadata": {},
   "outputs": [],
   "source": []
  }
 ],
 "metadata": {
  "kernelspec": {
   "display_name": "Python 3",
   "language": "python",
   "name": "python3"
  },
  "language_info": {
   "codemirror_mode": {
    "name": "ipython",
    "version": 3
   },
   "file_extension": ".py",
   "mimetype": "text/x-python",
   "name": "python",
   "nbconvert_exporter": "python",
   "pygments_lexer": "ipython3",
   "version": "3.6.4"
  }
 },
 "nbformat": 4,
 "nbformat_minor": 2
}
